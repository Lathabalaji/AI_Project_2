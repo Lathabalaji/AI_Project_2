{
 "cells": [
  {
   "cell_type": "markdown",
   "metadata": {},
   "source": [
    "# 1. Import Dependencies"
   ]
  },
  {
   "cell_type": "code",
   "execution_count": 1,
   "metadata": {},
   "outputs": [
    {
     "name": "stdout",
     "output_type": "stream",
     "text": [
      "Collecting opencv-python\n",
      "  Downloading opencv_python-4.5.4.58-cp36-cp36m-win_amd64.whl (35.1 MB)\n",
      "Collecting numpy>=1.13.3\n",
      "  Downloading numpy-1.19.5-cp36-cp36m-win_amd64.whl (13.2 MB)\n",
      "Installing collected packages: numpy, opencv-python\n",
      "Successfully installed numpy-1.19.5 opencv-python-4.5.4.58\n"
     ]
    }
   ],
   "source": [
    "!pip install opencv-python"
   ]
  },
  {
   "cell_type": "code",
   "execution_count": 3,
   "metadata": {},
   "outputs": [],
   "source": [
    "# Import opencv\n",
    "import cv2 \n",
    "\n",
    "# Import uuid\n",
    "import uuid\n",
    "\n",
    "# Import Operating System\n",
    "import os\n",
    "\n",
    "# Import time\n",
    "import time"
   ]
  },
  {
   "cell_type": "markdown",
   "metadata": {},
   "source": [
    "# 2. Define Images to Collect"
   ]
  },
  {
   "cell_type": "code",
   "execution_count": 1,
   "metadata": {},
   "outputs": [],
   "source": [
    "labels = ['freshapples', 'freshbanana', 'freshoranges', 'rottenapples','rottenbanana','rottenoranges']\n",
    "number_imgs = 10"
   ]
  },
  {
   "cell_type": "markdown",
   "metadata": {},
   "source": [
    "# 3. Setup Folders "
   ]
  },
  {
   "cell_type": "code",
   "execution_count": 4,
   "metadata": {},
   "outputs": [],
   "source": [
    "IMAGES_PATH = os.path.join('Tensorflow', 'workspace', 'images', 'collectedimages')"
   ]
  },
  {
   "cell_type": "code",
   "execution_count": 5,
   "metadata": {},
   "outputs": [],
   "source": [
    "if not os.path.exists(IMAGES_PATH):\n",
    "    if os.name == 'posix':\n",
    "        !mkdir -p {IMAGES_PATH}\n",
    "    if os.name == 'nt':\n",
    "         !mkdir {IMAGES_PATH}\n",
    "for label in labels:\n",
    "    path = os.path.join(IMAGES_PATH, label)\n",
    "    if not os.path.exists(path):\n",
    "        !mkdir {path}"
   ]
  },
  {
   "cell_type": "markdown",
   "metadata": {},
   "source": [
    "# 4. Capture Images"
   ]
  },
  {
   "cell_type": "code",
   "execution_count": 6,
   "metadata": {},
   "outputs": [
    {
     "name": "stdout",
     "output_type": "stream",
     "text": [
      "Collecting images for freshapples\n",
      "Collecting image 0\n",
      "Collecting image 1\n",
      "Collecting image 2\n",
      "Collecting image 3\n",
      "Collecting image 4\n",
      "Collecting image 5\n",
      "Collecting image 6\n",
      "Collecting image 7\n",
      "Collecting image 8\n",
      "Collecting image 9\n",
      "Collecting images for freshbanana\n",
      "Collecting image 0\n",
      "Collecting image 1\n",
      "Collecting image 2\n",
      "Collecting image 3\n",
      "Collecting image 4\n",
      "Collecting image 5\n",
      "Collecting image 6\n",
      "Collecting image 7\n",
      "Collecting image 8\n",
      "Collecting image 9\n",
      "Collecting images for freshoranges\n",
      "Collecting image 0\n",
      "Collecting image 1\n",
      "Collecting image 2\n",
      "Collecting image 3\n",
      "Collecting image 4\n",
      "Collecting image 5\n",
      "Collecting image 6\n",
      "Collecting image 7\n",
      "Collecting image 8\n",
      "Collecting image 9\n",
      "Collecting images for rottenapples\n",
      "Collecting image 0\n",
      "Collecting image 1\n",
      "Collecting image 2\n",
      "Collecting image 3\n",
      "Collecting image 4\n",
      "Collecting image 5\n",
      "Collecting image 6\n",
      "Collecting image 7\n",
      "Collecting image 8\n",
      "Collecting image 9\n",
      "Collecting images for rottenbanana\n",
      "Collecting image 0\n",
      "Collecting image 1\n",
      "Collecting image 2\n",
      "Collecting image 3\n",
      "Collecting image 4\n",
      "Collecting image 5\n",
      "Collecting image 6\n",
      "Collecting image 7\n",
      "Collecting image 8\n",
      "Collecting image 9\n",
      "Collecting images for rottenoranges\n",
      "Collecting image 0\n",
      "Collecting image 1\n",
      "Collecting image 2\n",
      "Collecting image 3\n",
      "Collecting image 4\n",
      "Collecting image 5\n",
      "Collecting image 6\n",
      "Collecting image 7\n",
      "Collecting image 8\n",
      "Collecting image 9\n"
     ]
    }
   ],
   "source": [
    "for label in labels:\n",
    "    cap = cv2.VideoCapture(0)\n",
    "    print('Collecting images for {}'.format(label))\n",
    "    time.sleep(5)\n",
    "    for imgnum in range(number_imgs):\n",
    "        print('Collecting image {}'.format(imgnum))\n",
    "        ret, frame = cap.read()\n",
    "        imgname = os.path.join(IMAGES_PATH,label,label+'.'+'{}.jpg'.format(str(uuid.uuid1())))\n",
    "        cv2.imwrite(imgname, frame)\n",
    "        cv2.imshow('frame', frame)\n",
    "        time.sleep(2)\n",
    "\n",
    "        if cv2.waitKey(1) & 0xFF == ord('q'):\n",
    "            break\n",
    "cap.release()\n",
    "cv2.destroyAllWindows()"
   ]
  },
  {
   "cell_type": "markdown",
   "metadata": {},
   "source": [
    "# 5. Image Labelling"
   ]
  },
  {
   "cell_type": "code",
   "execution_count": 13,
   "metadata": {},
   "outputs": [
    {
     "name": "stdout",
     "output_type": "stream",
     "text": [
      "Collecting pyqt5\n",
      "  Downloading PyQt5-5.15.6-cp36-abi3-win_amd64.whl (6.7 MB)\n",
      "Collecting lxml\n",
      "  Downloading lxml-4.6.4-cp36-cp36m-win_amd64.whl (3.5 MB)\n",
      "Collecting PyQt5-sip<13,>=12.8\n",
      "  Downloading PyQt5_sip-12.9.0-cp36-cp36m-win_amd64.whl (62 kB)\n",
      "Collecting PyQt5-Qt5>=5.15.2\n",
      "  Downloading PyQt5_Qt5-5.15.2-py3-none-win_amd64.whl (50.1 MB)\n",
      "Installing collected packages: PyQt5-sip, PyQt5-Qt5, pyqt5, lxml\n",
      "Successfully installed PyQt5-Qt5-5.15.2 PyQt5-sip-12.9.0 lxml-4.6.4 pyqt5-5.15.6\n"
     ]
    }
   ],
   "source": [
    "!pip install --upgrade pyqt5 lxml"
   ]
  },
  {
   "cell_type": "code",
   "execution_count": 8,
   "metadata": {},
   "outputs": [],
   "source": [
    "LABELIMG_PATH = os.path.join('Tensorflow', 'labelimg')"
   ]
  },
  {
   "cell_type": "code",
   "execution_count": 15,
   "metadata": {},
   "outputs": [
    {
     "name": "stderr",
     "output_type": "stream",
     "text": [
      "Cloning into 'Tensorflow\\labelimg'...\n"
     ]
    }
   ],
   "source": [
    "if not os.path.exists(LABELIMG_PATH):\n",
    "    !mkdir {LABELIMG_PATH}\n",
    "    !git clone https://github.com/tzutalin/labelImg {LABELIMG_PATH}"
   ]
  },
  {
   "cell_type": "code",
   "execution_count": 9,
   "metadata": {},
   "outputs": [],
   "source": [
    "if os.name == 'posix':\n",
    "    !make qt5py3\n",
    "if os.name =='nt':\n",
    "    !cd {LABELIMG_PATH} && pyrcc5 -o libs/resources.py resources.qrc"
   ]
  },
  {
   "cell_type": "code",
   "execution_count": 10,
   "metadata": {},
   "outputs": [
    {
     "name": "stdout",
     "output_type": "stream",
     "text": [
      "Image:C:\\Users\\deven\\OneDrive\\Documents\\Tensorflow Object Detection\\TFODCourse\\Tensorflow\\workspace\\images\\collectedimages\\freshapples\\freshapples.1b2cddd3-4648-11ec-b7c1-347df6f80362.jpg -> Annotation:C:/Users/deven/OneDrive/Documents/Tensorflow Object Detection/TFODCourse/Tensorflow/workspace/images/collectedimages/freshapples/freshapples.1b2cddd3-4648-11ec-b7c1-347df6f80362.xml\n",
      "Image:C:\\Users\\deven\\OneDrive\\Documents\\Tensorflow Object Detection\\TFODCourse\\Tensorflow\\workspace\\images\\collectedimages\\freshapples\\freshapples.1c605ac9-4648-11ec-8fa2-347df6f80362.jpg -> Annotation:C:/Users/deven/OneDrive/Documents/Tensorflow Object Detection/TFODCourse/Tensorflow/workspace/images/collectedimages/freshapples/freshapples.1c605ac9-4648-11ec-8fa2-347df6f80362.xml\n",
      "Image:C:\\Users\\deven\\OneDrive\\Documents\\Tensorflow Object Detection\\TFODCourse\\Tensorflow\\workspace\\images\\collectedimages\\freshapples\\freshapples.13edbff5-4648-11ec-9ff5-347df6f80362.jpg -> Annotation:C:/Users/deven/OneDrive/Documents/Tensorflow Object Detection/TFODCourse/Tensorflow/workspace/images/collectedimages/freshapples/freshapples.13edbff5-4648-11ec-9ff5-347df6f80362.xml\n",
      "Image:C:\\Users\\deven\\OneDrive\\Documents\\Tensorflow Object Detection\\TFODCourse\\Tensorflow\\workspace\\images\\collectedimages\\freshapples\\freshapples.178d2fb6-4648-11ec-9ef6-347df6f80362.jpg -> Annotation:C:/Users/deven/OneDrive/Documents/Tensorflow Object Detection/TFODCourse/Tensorflow/workspace/images/collectedimages/freshapples/freshapples.178d2fb6-4648-11ec-9ef6-347df6f80362.xml\n",
      "Cancel creation.\n",
      "Image:C:\\Users\\deven\\OneDrive\\Documents\\Tensorflow Object Detection\\TFODCourse\\Tensorflow\\workspace\\images\\collectedimages\\freshbanana\\freshbanana.2a916bdf-4648-11ec-bab5-347df6f80362.jpg -> Annotation:C:/Users/deven/OneDrive/Documents/Tensorflow Object Detection/TFODCourse/Tensorflow/workspace/images/collectedimages/freshbanana/freshbanana.2a916bdf-4648-11ec-bab5-347df6f80362.xml\n",
      "Image:C:\\Users\\deven\\OneDrive\\Documents\\Tensorflow Object Detection\\TFODCourse\\Tensorflow\\workspace\\images\\collectedimages\\freshbanana\\freshbanana.2f68fe2b-4648-11ec-9b9b-347df6f80362.jpg -> Annotation:C:/Users/deven/OneDrive/Documents/Tensorflow Object Detection/TFODCourse/Tensorflow/workspace/images/collectedimages/freshbanana/freshbanana.2f68fe2b-4648-11ec-9b9b-347df6f80362.xml\n",
      "Image:C:\\Users\\deven\\OneDrive\\Documents\\Tensorflow Object Detection\\TFODCourse\\Tensorflow\\workspace\\images\\collectedimages\\freshbanana\\freshbanana.31d4e1f2-4648-11ec-9bb6-347df6f80362.jpg -> Annotation:C:/Users/deven/OneDrive/Documents/Tensorflow Object Detection/TFODCourse/Tensorflow/workspace/images/collectedimages/freshbanana/freshbanana.31d4e1f2-4648-11ec-9bb6-347df6f80362.xml\n",
      "Image:C:\\Users\\deven\\OneDrive\\Documents\\Tensorflow Object Detection\\TFODCourse\\Tensorflow\\workspace\\images\\collectedimages\\freshbanana\\freshbanana.295c4f18-4648-11ec-949a-347df6f80362.jpg -> Annotation:C:/Users/deven/OneDrive/Documents/Tensorflow Object Detection/TFODCourse/Tensorflow/workspace/images/collectedimages/freshbanana/freshbanana.295c4f18-4648-11ec-949a-347df6f80362.xml\n",
      "Image:C:\\Users\\deven\\OneDrive\\Documents\\Tensorflow Object Detection\\TFODCourse\\Tensorflow\\workspace\\images\\collectedimages\\freshbanana\\freshbanana.309e685b-4648-11ec-ac0c-347df6f80362.jpg -> Annotation:C:/Users/deven/OneDrive/Documents/Tensorflow Object Detection/TFODCourse/Tensorflow/workspace/images/collectedimages/freshbanana/freshbanana.309e685b-4648-11ec-ac0c-347df6f80362.xml\n",
      "Image:C:\\Users\\deven\\OneDrive\\Documents\\Tensorflow Object Detection\\TFODCourse\\Tensorflow\\workspace\\images\\collectedimages\\freshbanana\\freshbanana.28273442-4648-11ec-9f33-347df6f80362.jpg -> Annotation:C:/Users/deven/OneDrive/Documents/Tensorflow Object Detection/TFODCourse/Tensorflow/workspace/images/collectedimages/freshbanana/freshbanana.28273442-4648-11ec-9f33-347df6f80362.xml\n",
      "Image:C:\\Users\\deven\\OneDrive\\Documents\\Tensorflow Object Detection\\TFODCourse\\Tensorflow\\workspace\\images\\collectedimages\\freshoranges\\freshoranges.3c6c1aeb-4648-11ec-a7cd-347df6f80362.jpg -> Annotation:C:/Users/deven/OneDrive/Documents/Tensorflow Object Detection/TFODCourse/Tensorflow/workspace/images/collectedimages/freshoranges/freshoranges.3c6c1aeb-4648-11ec-a7cd-347df6f80362.xml\n",
      "Image:C:\\Users\\deven\\OneDrive\\Documents\\Tensorflow Object Detection\\TFODCourse\\Tensorflow\\workspace\\images\\collectedimages\\freshoranges\\freshoranges.3da06258-4648-11ec-b7c9-347df6f80362.jpg -> Annotation:C:/Users/deven/OneDrive/Documents/Tensorflow Object Detection/TFODCourse/Tensorflow/workspace/images/collectedimages/freshoranges/freshoranges.3da06258-4648-11ec-b7c9-347df6f80362.xml\n",
      "Image:C:\\Users\\deven\\OneDrive\\Documents\\Tensorflow Object Detection\\TFODCourse\\Tensorflow\\workspace\\images\\collectedimages\\freshoranges\\freshoranges.3ed57e56-4648-11ec-8cb3-347df6f80362.jpg -> Annotation:C:/Users/deven/OneDrive/Documents/Tensorflow Object Detection/TFODCourse/Tensorflow/workspace/images/collectedimages/freshoranges/freshoranges.3ed57e56-4648-11ec-8cb3-347df6f80362.xml\n",
      "Image:C:\\Users\\deven\\OneDrive\\Documents\\Tensorflow Object Detection\\TFODCourse\\Tensorflow\\workspace\\images\\collectedimages\\freshoranges\\freshoranges.44e0ddef-4648-11ec-81ae-347df6f80362.jpg -> Annotation:C:/Users/deven/OneDrive/Documents/Tensorflow Object Detection/TFODCourse/Tensorflow/workspace/images/collectedimages/freshoranges/freshoranges.44e0ddef-4648-11ec-81ae-347df6f80362.xml\n",
      "Image:C:\\Users\\deven\\OneDrive\\Documents\\Tensorflow Object Detection\\TFODCourse\\Tensorflow\\workspace\\images\\collectedimages\\freshoranges\\freshoranges.400c25f2-4648-11ec-b896-347df6f80362.jpg -> Annotation:C:/Users/deven/OneDrive/Documents/Tensorflow Object Detection/TFODCourse/Tensorflow/workspace/images/collectedimages/freshoranges/freshoranges.400c25f2-4648-11ec-b896-347df6f80362.xml\n",
      "Image:C:\\Users\\deven\\OneDrive\\Documents\\Tensorflow Object Detection\\TFODCourse\\Tensorflow\\workspace\\images\\collectedimages\\freshoranges\\freshoranges.4141a1fd-4648-11ec-b47e-347df6f80362.jpg -> Annotation:C:/Users/deven/OneDrive/Documents/Tensorflow Object Detection/TFODCourse/Tensorflow/workspace/images/collectedimages/freshoranges/freshoranges.4141a1fd-4648-11ec-b47e-347df6f80362.xml\n",
      "Cancel creation.\n",
      "Image:C:\\Users\\deven\\OneDrive\\Documents\\Tensorflow Object Detection\\TFODCourse\\Tensorflow\\workspace\\images\\collectedimages\\rottenapples\\rottenapples.50db020c-4648-11ec-9a36-347df6f80362.jpg -> Annotation:C:/Users/deven/OneDrive/Documents/Tensorflow Object Detection/TFODCourse/Tensorflow/workspace/images/collectedimages/rottenapples/rottenapples.50db020c-4648-11ec-9a36-347df6f80362.xml\n",
      "Image:C:\\Users\\deven\\OneDrive\\Documents\\Tensorflow Object Detection\\TFODCourse\\Tensorflow\\workspace\\images\\collectedimages\\rottenapples\\rottenapples.55b1a117-4648-11ec-80f6-347df6f80362.jpg -> Annotation:C:/Users/deven/OneDrive/Documents/Tensorflow Object Detection/TFODCourse/Tensorflow/workspace/images/collectedimages/rottenapples/rottenapples.55b1a117-4648-11ec-80f6-347df6f80362.xml\n",
      "Image:C:\\Users\\deven\\OneDrive\\Documents\\Tensorflow Object Detection\\TFODCourse\\Tensorflow\\workspace\\images\\collectedimages\\rottenapples\\rottenapples.520f741a-4648-11ec-b6b7-347df6f80362.jpg -> Annotation:C:/Users/deven/OneDrive/Documents/Tensorflow Object Detection/TFODCourse/Tensorflow/workspace/images/collectedimages/rottenapples/rottenapples.520f741a-4648-11ec-b6b7-347df6f80362.xml\n",
      "Image:C:\\Users\\deven\\OneDrive\\Documents\\Tensorflow Object Detection\\TFODCourse\\Tensorflow\\workspace\\images\\collectedimages\\rottenapples\\rottenapples.547df88c-4648-11ec-9dea-347df6f80362.jpg -> Annotation:C:/Users/deven/OneDrive/Documents/Tensorflow Object Detection/TFODCourse/Tensorflow/workspace/images/collectedimages/rottenapples/rottenapples.547df88c-4648-11ec-9dea-347df6f80362.xml\n",
      "Image:C:\\Users\\deven\\OneDrive\\Documents\\Tensorflow Object Detection\\TFODCourse\\Tensorflow\\workspace\\images\\collectedimages\\rottenapples\\rottenapples.581a76ab-4648-11ec-a731-347df6f80362.jpg -> Annotation:C:/Users/deven/OneDrive/Documents/Tensorflow Object Detection/TFODCourse/Tensorflow/workspace/images/collectedimages/rottenapples/rottenapples.581a76ab-4648-11ec-a731-347df6f80362.xml\n",
      "Image:C:\\Users\\deven\\OneDrive\\Documents\\Tensorflow Object Detection\\TFODCourse\\Tensorflow\\workspace\\images\\collectedimages\\rottenapples\\rottenapples.594e28d7-4648-11ec-95f7-347df6f80362.jpg -> Annotation:C:/Users/deven/OneDrive/Documents/Tensorflow Object Detection/TFODCourse/Tensorflow/workspace/images/collectedimages/rottenapples/rottenapples.594e28d7-4648-11ec-95f7-347df6f80362.xml\n",
      "Image:C:\\Users\\deven\\OneDrive\\Documents\\Tensorflow Object Detection\\TFODCourse\\Tensorflow\\workspace\\images\\collectedimages\\rottenbanana\\rottenbanana.6a0e9460-4648-11ec-82f8-347df6f80362.jpg -> Annotation:C:/Users/deven/OneDrive/Documents/Tensorflow Object Detection/TFODCourse/Tensorflow/workspace/images/collectedimages/rottenbanana/rottenbanana.6a0e9460-4648-11ec-82f8-347df6f80362.xml\n",
      "Image:C:\\Users\\deven\\OneDrive\\Documents\\Tensorflow Object Detection\\TFODCourse\\Tensorflow\\workspace\\images\\collectedimages\\rottenbanana\\rottenbanana.6b41e21c-4648-11ec-b851-347df6f80362.jpg -> Annotation:C:/Users/deven/OneDrive/Documents/Tensorflow Object Detection/TFODCourse/Tensorflow/workspace/images/collectedimages/rottenbanana/rottenbanana.6b41e21c-4648-11ec-b851-347df6f80362.xml\n",
      "Image:C:\\Users\\deven\\OneDrive\\Documents\\Tensorflow Object Detection\\TFODCourse\\Tensorflow\\workspace\\images\\collectedimages\\rottenbanana\\rottenbanana.6ee55c86-4648-11ec-9be2-347df6f80362.jpg -> Annotation:C:/Users/deven/OneDrive/Documents/Tensorflow Object Detection/TFODCourse/Tensorflow/workspace/images/collectedimages/rottenbanana/rottenbanana.6ee55c86-4648-11ec-9be2-347df6f80362.xml\n",
      "Image:C:\\Users\\deven\\OneDrive\\Documents\\Tensorflow Object Detection\\TFODCourse\\Tensorflow\\workspace\\images\\collectedimages\\rottenbanana\\rottenbanana.67a4f330-4648-11ec-beb5-347df6f80362.jpg -> Annotation:C:/Users/deven/OneDrive/Documents/Tensorflow Object Detection/TFODCourse/Tensorflow/workspace/images/collectedimages/rottenbanana/rottenbanana.67a4f330-4648-11ec-beb5-347df6f80362.xml\n",
      "Image:C:\\Users\\deven\\OneDrive\\Documents\\Tensorflow Object Detection\\TFODCourse\\Tensorflow\\workspace\\images\\collectedimages\\rottenbanana\\rottenbanana.68d925f9-4648-11ec-a38b-347df6f80362.jpg -> Annotation:C:/Users/deven/OneDrive/Documents/Tensorflow Object Detection/TFODCourse/Tensorflow/workspace/images/collectedimages/rottenbanana/rottenbanana.68d925f9-4648-11ec-a38b-347df6f80362.xml\n",
      "Image:C:\\Users\\deven\\OneDrive\\Documents\\Tensorflow Object Detection\\TFODCourse\\Tensorflow\\workspace\\images\\collectedimages\\rottenbanana\\rottenbanana.666f3196-4648-11ec-b16c-347df6f80362.jpg -> Annotation:C:/Users/deven/OneDrive/Documents/Tensorflow Object Detection/TFODCourse/Tensorflow/workspace/images/collectedimages/rottenbanana/rottenbanana.666f3196-4648-11ec-b16c-347df6f80362.xml\n",
      "Image:C:\\Users\\deven\\OneDrive\\Documents\\Tensorflow Object Detection\\TFODCourse\\Tensorflow\\workspace\\images\\collectedimages\\rottenoranges\\rottenoranges.7adb6c38-4648-11ec-b52c-347df6f80362.jpg -> Annotation:C:/Users/deven/OneDrive/Documents/Tensorflow Object Detection/TFODCourse/Tensorflow/workspace/images/collectedimages/rottenoranges/rottenoranges.7adb6c38-4648-11ec-b52c-347df6f80362.xml\n",
      "Image:C:\\Users\\deven\\OneDrive\\Documents\\Tensorflow Object Detection\\TFODCourse\\Tensorflow\\workspace\\images\\collectedimages\\rottenoranges\\rottenoranges.7c12a546-4648-11ec-ae4c-347df6f80362.jpg -> Annotation:C:/Users/deven/OneDrive/Documents/Tensorflow Object Detection/TFODCourse/Tensorflow/workspace/images/collectedimages/rottenoranges/rottenoranges.7c12a546-4648-11ec-ae4c-347df6f80362.xml\n",
      "Image:C:\\Users\\deven\\OneDrive\\Documents\\Tensorflow Object Detection\\TFODCourse\\Tensorflow\\workspace\\images\\collectedimages\\rottenoranges\\rottenoranges.7d49e958-4648-11ec-95f6-347df6f80362.jpg -> Annotation:C:/Users/deven/OneDrive/Documents/Tensorflow Object Detection/TFODCourse/Tensorflow/workspace/images/collectedimages/rottenoranges/rottenoranges.7d49e958-4648-11ec-95f6-347df6f80362.xml\n",
      "Image:C:\\Users\\deven\\OneDrive\\Documents\\Tensorflow Object Detection\\TFODCourse\\Tensorflow\\workspace\\images\\collectedimages\\rottenoranges\\rottenoranges.80eae38d-4648-11ec-bc8a-347df6f80362.jpg -> Annotation:C:/Users/deven/OneDrive/Documents/Tensorflow Object Detection/TFODCourse/Tensorflow/workspace/images/collectedimages/rottenoranges/rottenoranges.80eae38d-4648-11ec-bc8a-347df6f80362.xml\n",
      "Image:C:\\Users\\deven\\OneDrive\\Documents\\Tensorflow Object Detection\\TFODCourse\\Tensorflow\\workspace\\images\\collectedimages\\rottenoranges\\rottenoranges.8355f4f2-4648-11ec-99c1-347df6f80362.jpg -> Annotation:C:/Users/deven/OneDrive/Documents/Tensorflow Object Detection/TFODCourse/Tensorflow/workspace/images/collectedimages/rottenoranges/rottenoranges.8355f4f2-4648-11ec-99c1-347df6f80362.xml\n",
      "Cancel creation.\n",
      "Image:C:\\Users\\deven\\OneDrive\\Documents\\Tensorflow Object Detection\\TFODCourse\\Tensorflow\\workspace\\images\\collectedimages\\rottenoranges\\rottenoranges.82202535-4648-11ec-abb2-347df6f80362.jpg -> Annotation:C:/Users/deven/OneDrive/Documents/Tensorflow Object Detection/TFODCourse/Tensorflow/workspace/images/collectedimages/rottenoranges/rottenoranges.82202535-4648-11ec-abb2-347df6f80362.xml\n"
     ]
    }
   ],
   "source": [
    "!cd {LABELIMG_PATH} && python labelImg.py"
   ]
  },
  {
   "cell_type": "code",
   "execution_count": null,
   "metadata": {},
   "outputs": [],
   "source": []
  }
 ],
 "metadata": {
  "kernelspec": {
   "display_name": "tfod",
   "language": "python",
   "name": "tfod"
  },
  "language_info": {
   "codemirror_mode": {
    "name": "ipython",
    "version": 3
   },
   "file_extension": ".py",
   "mimetype": "text/x-python",
   "name": "python",
   "nbconvert_exporter": "python",
   "pygments_lexer": "ipython3",
   "version": "3.9.4"
  }
 },
 "nbformat": 4,
 "nbformat_minor": 2
}
